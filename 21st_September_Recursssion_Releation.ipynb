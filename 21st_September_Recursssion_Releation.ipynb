{
 "cells": [
  {
   "cell_type": "markdown",
   "id": "a0ccac2b",
   "metadata": {},
   "source": [
    "# 1. Find the val%e of T(2) for the rec%rrence relation T(n) = 3T(n-1) + 12n, given that T(0)=5."
   ]
  },
  {
   "cell_type": "code",
   "execution_count": null,
   "id": "6b0393b4",
   "metadata": {},
   "outputs": [],
   "source": [
    "Let's assume T(2):\n",
    "    T(2)=3T(1)+12⋅2\n",
    "        =3(3T(0)+12⋅1)+12⋅2\n",
    "        =3(3⋅5+12)+12⋅2\n",
    "        =3(15+12)+24\n",
    "        =3⋅27+24\n",
    "        =81+24\n",
    "        =105\n",
    "\n",
    " so, T(2) = 105\n"
   ]
  },
  {
   "cell_type": "markdown",
   "id": "bf8e38d2",
   "metadata": {},
   "source": [
    "# 2. Given a rec%rrence relation, solve it %sing the s%bstit%tion method:\n",
    "# a. T(n) = T(n-1) + c\n",
    "# b. T(n) = 2T(n/2) + n\n",
    "# c. T(n) = 2T(n/2) + c\n",
    "# d. T(n) = T(n/2) + c"
   ]
  },
  {
   "cell_type": "code",
   "execution_count": null,
   "id": "7b0a4708",
   "metadata": {},
   "outputs": [],
   "source": [
    "a. T(n)=T(n−1)+c\n",
    "Assume T(n) = T(n-1)+c has a solution of the form T(n) = An + B where A and B are constants.\n",
    "substitute this into the recurrence relation:\n",
    "    An + B = A(n-1) + B + c\n",
    "simplify:\n",
    "    An + B = An - A + B +c\n",
    "Combin like terms:\n",
    "    A = c\n",
    "So, the solution is T(n) = cn +B, where B is another constant.\n",
    "\n",
    "\n",
    "\n",
    "b. T(n) = 2T(n/2) + n\n",
    "Assume T(n) = An + B is a solution.\n",
    "substitute in to the recurrence relation:\n",
    "    An + B = 2(A(n/2) + B) + n\n",
    "simplity:\n",
    "    An + B = An + 2B + n\n",
    "Combine like terms:\n",
    "    B = n\n",
    "So, the solution is T(n) = An +  n, where A is a constant.\n",
    "\n",
    "\n",
    "\n",
    "c. T(n) = 2T(n/2) + c\n",
    "Assume T(n) = An + B is a soution.\n",
    "Substitute into the recurrence relation:\n",
    "    An + B = 2(A(n/2) + B) + c\n",
    "simplify:\n",
    "    \n",
    "    An + B = An + 2B + c\n",
    "combine like terms:\n",
    "    B = c\n",
    "    \n",
    "so, tesolution is T(n) = An + c, Where A is a constant.\n",
    "\n",
    "\n",
    "\n",
    "\n",
    "d. T(n) = T(n/2) + c\n",
    "Assume T(n) = An + B is a solution.\n",
    "Substitute into the recurrence relation:\n",
    "    An + B = A(n/2) + B + c\n",
    "simplity:\n",
    "    An + B = An/2 + B + c\n",
    "Combine like terms:\n",
    "    An = An/2 +c\n",
    "Solve for A:\n",
    "    A = 2c\n",
    "So, the solution is T(n) = 2cn + B, where B is a constant.    "
   ]
  },
  {
   "cell_type": "markdown",
   "id": "6ae0e18c",
   "metadata": {},
   "source": [
    "# 3. Given a rec%rrence relation, solve it %sing the rec%rsive tree approach:\n",
    "# a. T(n) = 2T(n-1) +1\n",
    "# b. T(n) = 2T(n/2) + n"
   ]
  },
  {
   "cell_type": "code",
   "execution_count": null,
   "id": "5dd99d00",
   "metadata": {},
   "outputs": [],
   "source": [
    " a. T(n) = 2T(n-1) + 1\n",
    "- each level of the recursion increases by 1, and the cost at each level is one more than the cost at the previous level\n",
    "\n",
    "         T(n)\n",
    "         / \\\n",
    "     T(n-1)  T(n-1)\n",
    "      / \\    / \\\n",
    "  T(n-2) T(n-2) ...\n",
    "   / \\    / \\\n",
    "...   ...   ...\n",
    "\n",
    "- The cost at each level is 1 more than the cost at the previous level. So, the cost at level i is 2^i. The height of the tree is n, so the total cost is the sum of the costs at all levels    \n",
    "T(n) = 2^0 + 2^1 + 2^2 + .......... + 2^n-1 = 2^n - 1\n",
    "\n",
    "\n",
    "b. T(n) = 2T(n/2) + n\n",
    "- In this case, each level of the recursion involves a cost of n, and the size of the subproblem is halved at each level\n",
    "\n",
    "         T(n)\n",
    "         / \\\n",
    "     T(n/2)  T(n/2)\n",
    "      / \\    / \\\n",
    "  T(n/4) T(n/4) ...\n",
    "   / \\    / \\\n",
    "...   ...   ...\n",
    "\n",
    "- The cost at each level is n, and there are log2 n levels. Therefore, the total cost is the product of the cost at each level and the number of levels\n",
    "T(n) = n.log2n"
   ]
  }
 ],
 "metadata": {
  "kernelspec": {
   "display_name": "Python 3 (ipykernel)",
   "language": "python",
   "name": "python3"
  },
  "language_info": {
   "codemirror_mode": {
    "name": "ipython",
    "version": 3
   },
   "file_extension": ".py",
   "mimetype": "text/x-python",
   "name": "python",
   "nbconvert_exporter": "python",
   "pygments_lexer": "ipython3",
   "version": "3.9.7"
  }
 },
 "nbformat": 4,
 "nbformat_minor": 5
}
